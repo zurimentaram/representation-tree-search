{
  "nbformat": 4,
  "nbformat_minor": 0,
  "metadata": {
    "colab": {
      "provenance": [],
      "authorship_tag": "ABX9TyNdJBYWTrMJwBmWttTDSnRl",
      "include_colab_link": true
    },
    "kernelspec": {
      "name": "python3",
      "display_name": "Python 3"
    },
    "language_info": {
      "name": "python"
    }
  },
  "cells": [
    {
      "cell_type": "markdown",
      "metadata": {
        "id": "view-in-github",
        "colab_type": "text"
      },
      "source": [
        "<a href=\"https://colab.research.google.com/github/zurimentaram/representation-tree-search/blob/main/tree-search.ipynb\" target=\"_parent\"><img src=\"https://colab.research.google.com/assets/colab-badge.svg\" alt=\"Open In Colab\"/></a>"
      ]
    },
    {
      "cell_type": "code",
      "execution_count": null,
      "metadata": {
        "colab": {
          "base_uri": "https://localhost:8080/"
        },
        "id": "bJMDRk78wy_x",
        "outputId": "24b433f8-ff16-4de1-8366-75cfee64d103"
      },
      "outputs": [
        {
          "output_type": "stream",
          "name": "stdout",
          "text": [
            "Hubungan keluarga dari Achmad:\n",
            "\n",
            "Orang_tua: Bayu\n"
          ]
        }
      ],
      "source": [
        "# Representasi Pengetahuan dari Pohon 1 dengan perubahan nama\n",
        "\n",
        "# Data struktur keluarga\n",
        "keluarga = {\n",
        "    \"Hadi\": {\n",
        "        \"pasangan\": \"Retno\",\n",
        "        \"anak\": [\"Bayu\", \"Desi\", \"Wahyu\", \"Rina\", \"Ardi\"],\n",
        "    },\n",
        "    \"Bayu\": {\n",
        "        \"saudara\": [\"Desi\", \"Wahyu\", \"Rina\", \"Ardi\"],\n",
        "        \"anak\": [\"Achmad\"],\n",
        "    },\n",
        "    \"Desi\": {\n",
        "        \"saudara\": [\"Bayu\", \"Wahyu\", \"Rina\", \"Ardi\"],\n",
        "        \"anak\": [\"Jazuri\", \"Nurul\"],\n",
        "    },\n",
        "    \"Wahyu\": {\n",
        "        \"saudara\": [\"Bayu\", \"Desi\", \"Rina\", \"Ardi\"],\n",
        "    },\n",
        "    \"Rina\": {\n",
        "        \"saudara\": [\"Bayu\", \"Desi\", \"Wahyu\", \"Ardi\"],\n",
        "        \"anak\": [\"Hamzah\", \"Eka\"],\n",
        "    },\n",
        "    \"Ardi\": {\n",
        "        \"pasangan\": \"Ana\",\n",
        "        \"saudara\": [\"Bayu\", \"Desi\", \"Wahyu\", \"Rina\"],\n",
        "        \"anak\": [\"Mira\", \"Bastian\"],\n",
        "    },\n",
        "    \"Achmad\": {\n",
        "        \"orang_tua\": [\"Bayu\"],\n",
        "    },\n",
        "    \"Jazuri\": {\n",
        "        \"orang_tua\": [\"Desi\"],\n",
        "    },\n",
        "    \"Nurul\": {\n",
        "        \"orang_tua\": [\"Desi\"],\n",
        "        \"anak\": [\"Aji\"],\n",
        "    },\n",
        "    \"Hamzah\": {\n",
        "        \"orang_tua\": [\"Rina\"],\n",
        "    },\n",
        "    \"Eka\": {\n",
        "        \"orang_tua\": [\"Rina\"],\n",
        "        \"anak\": [\"Anggun\", \"Boy\"],\n",
        "    },\n",
        "    \"Mira\": {\n",
        "        \"orang_tua\": [\"Ardi\", \"Ana\"],\n",
        "        \"anak\": [\"Anggun\", \"Boy\"],\n",
        "    },\n",
        "    \"Bastian\": {\n",
        "        \"orang_tua\": [\"Ardi\", \"Ana\"],\n",
        "    },\n",
        "    \"Aji\": {\n",
        "        \"orang_tua\": [\"Nurul\"],\n",
        "    },\n",
        "    \"Gunawan\": {\n",
        "        \"orang_tua\": [\"Nurul\"],\n",
        "    },\n",
        "    \"Anggun\": {\n",
        "        \"orang_tua\": [\"Mira\"],\n",
        "    },\n",
        "    \"Boy\": {\n",
        "        \"orang_tua\": [\"Mira\"],\n",
        "    },\n",
        "}\n",
        "\n",
        "# Fungsi untuk menampilkan hubungan keluarga\n",
        "def hubungan(keluarga, nama):\n",
        "    if nama in keluarga:\n",
        "        print(f\"Hubungan keluarga dari {nama}:\\n\")\n",
        "        for relasi, individu in keluarga[nama].items():\n",
        "            print(f\"{relasi.capitalize()}: {', '.join(individu) if isinstance(individu, list) else individu}\")\n",
        "    else:\n",
        "        print(f\"{nama} tidak ditemukan dalam data keluarga.\")\n",
        "\n",
        "# Contoh penggunaan\n",
        "hubungan(keluarga, \"Achmad\")"
      ]
    },
    {
      "cell_type": "code",
      "source": [
        "# Representasi Pengetahuan dari Pohon 1 dengan perubahan nama\n",
        "\n",
        "# Data struktur keluarga\n",
        "keluarga = {\n",
        "    \"Hadi\": {\n",
        "        \"pasangan\": \"Retno\",\n",
        "        \"anak\": [\"Bayu\", \"Desi\", \"Wahyu\", \"Rina\", \"Ardi\"],\n",
        "    },\n",
        "    \"Bayu\": {\n",
        "        \"saudara\": [\"Desi\", \"Wahyu\", \"Rina\", \"Ardi\"],\n",
        "        \"anak\": [\"Achmad\"],\n",
        "    },\n",
        "    \"Desi\": {\n",
        "        \"saudara\": [\"Bayu\", \"Wahyu\", \"Rina\", \"Ardi\"],\n",
        "        \"anak\": [\"Jazuri\", \"Nurul\"],\n",
        "    },\n",
        "    \"Wahyu\": {\n",
        "        \"saudara\": [\"Bayu\", \"Desi\", \"Rina\", \"Ardi\"],\n",
        "    },\n",
        "    \"Rina\": {\n",
        "        \"saudara\": [\"Bayu\", \"Desi\", \"Wahyu\", \"Ardi\"],\n",
        "        \"anak\": [\"Hamzah\", \"Eka\"],\n",
        "    },\n",
        "    \"Ardi\": {\n",
        "        \"pasangan\": \"Ana\",\n",
        "        \"saudara\": [\"Bayu\", \"Desi\", \"Wahyu\", \"Rina\"],\n",
        "        \"anak\": [\"Mira\", \"Bastian\"],\n",
        "    },\n",
        "    \"Achmad\": {\n",
        "        \"orang_tua\": [\"Bayu\"],\n",
        "    },\n",
        "    \"Jazuri\": {\n",
        "        \"orang_tua\": [\"Desi\"],\n",
        "    },\n",
        "    \"Nurul\": {\n",
        "        \"orang_tua\": [\"Desi\"],\n",
        "        \"anak\": [\"Aji\"],\n",
        "    },\n",
        "    \"Hamzah\": {\n",
        "        \"orang_tua\": [\"Rina\"],\n",
        "    },\n",
        "    \"Eka\": {\n",
        "        \"orang_tua\": [\"Rina\"],\n",
        "        \"anak\": [\"Anggun\", \"Boy\"],\n",
        "    },\n",
        "    \"Mira\": {\n",
        "        \"orang_tua\": [\"Ardi\", \"Ana\"],\n",
        "        \"anak\": [\"Anggun\", \"Boy\"],\n",
        "    },\n",
        "    \"Bastian\": {\n",
        "        \"orang_tua\": [\"Ardi\", \"Ana\"],\n",
        "    },\n",
        "    \"Aji\": {\n",
        "        \"orang_tua\": [\"Nurul\"],\n",
        "    },\n",
        "    \"Gunawan\": {\n",
        "        \"orang_tua\": [\"Nurul\"],\n",
        "    },\n",
        "    \"Anggun\": {\n",
        "        \"orang_tua\": [\"Mira\"],\n",
        "    },\n",
        "    \"Boy\": {\n",
        "        \"orang_tua\": [\"Mira\"],\n",
        "    },\n",
        "}\n",
        "\n",
        "# Fungsi untuk menampilkan hubungan keluarga\n",
        "def hubungan(keluarga, nama):\n",
        "    if nama in keluarga:\n",
        "        print(f\"Hubungan keluarga dari {nama}:\\n\")\n",
        "        for relasi, individu in keluarga[nama].items():\n",
        "            print(f\"{relasi.capitalize()}: {', '.join(individu) if isinstance(individu, list) else individu}\")\n",
        "    else:\n",
        "        print(f\"{nama} tidak ditemukan dalam data keluarga.\")\n",
        "\n",
        "# Contoh penggunaan\n",
        "hubungan(keluarga, \"Jazuri\")"
      ],
      "metadata": {
        "colab": {
          "base_uri": "https://localhost:8080/"
        },
        "id": "phv48Gndy2KI",
        "outputId": "9f6ab4cc-5897-417d-9c44-cdc556b7376d"
      },
      "execution_count": null,
      "outputs": [
        {
          "output_type": "stream",
          "name": "stdout",
          "text": [
            "Hubungan keluarga dari Jazuri:\n",
            "\n",
            "Orang_tua: Desi\n"
          ]
        }
      ]
    }
  ]
}